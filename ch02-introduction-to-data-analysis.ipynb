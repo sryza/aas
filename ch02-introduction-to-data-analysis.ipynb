{
 "cells": [
  {
   "cell_type": "code",
   "execution_count": null,
   "id": "c17f6215",
   "metadata": {},
   "outputs": [],
   "source": [
    "import pyspark\n",
    "\n",
    "from pyspark.sql import SparkSession"
   ]
  },
  {
   "cell_type": "code",
   "execution_count": null,
   "id": "c4db93be",
   "metadata": {},
   "outputs": [],
   "source": [
    "spark = SparkSession.builder.config(\"spark.driver.memory\", \"4g\").appName('chapter_2').getOrCreate()"
   ]
  },
  {
   "cell_type": "markdown",
   "id": "bbd58531",
   "metadata": {},
   "source": [
    "### Setting Up Our Data\n",
    "\n",
    "From the shell:\n",
    "\n",
    "```\n",
    "$ mkdir linkage\n",
    "$ cd linkage/\n",
    "$ curl -L -o donation.zip https://bit.ly/1Aoywaq\n",
    "$ unzip donation.zip\n",
    "$ unzip 'block_*.zip'\n",
    "```"
   ]
  },
  {
   "cell_type": "code",
   "execution_count": null,
   "id": "1e107825",
   "metadata": {},
   "outputs": [],
   "source": [
    "prev = spark.read.csv(\"data/linkage/block_*.csv\")\n",
    "\n",
    "prev"
   ]
  },
  {
   "cell_type": "code",
   "execution_count": null,
   "id": "4accf16e",
   "metadata": {},
   "outputs": [],
   "source": [
    "prev.show(2)"
   ]
  },
  {
   "cell_type": "code",
   "execution_count": null,
   "id": "6f5ddd18",
   "metadata": {},
   "outputs": [],
   "source": [
    "parsed = spark.read.option(\"header\", \"true\").option(\"nullValue\", \"?\").\\\n",
    "          option(\"inferSchema\", \"true\").csv(\"data/linkage/block*.csv\")"
   ]
  },
  {
   "cell_type": "markdown",
   "id": "a6d05731",
   "metadata": {},
   "source": [
    "### Analyzing Data with the DataFrame API"
   ]
  },
  {
   "cell_type": "code",
   "execution_count": null,
   "id": "c96e9eb6",
   "metadata": {},
   "outputs": [],
   "source": [
    "parsed.printSchema()\n",
    "\n",
    "parsed.show(5)"
   ]
  },
  {
   "cell_type": "code",
   "execution_count": null,
   "id": "43b63bed",
   "metadata": {},
   "outputs": [],
   "source": [
    "parsed.count()"
   ]
  },
  {
   "cell_type": "code",
   "execution_count": null,
   "id": "d456d900",
   "metadata": {},
   "outputs": [],
   "source": [
    "parsed.cache()"
   ]
  },
  {
   "cell_type": "code",
   "execution_count": null,
   "id": "847c09b1",
   "metadata": {},
   "outputs": [],
   "source": [
    "from pyspark.sql.functions import col\n",
    "\n",
    "parsed.groupBy(\"is_match\").count().orderBy(col(\"count\").desc()).show()"
   ]
  },
  {
   "cell_type": "code",
   "execution_count": null,
   "id": "0dbc69ba",
   "metadata": {},
   "outputs": [],
   "source": [
    "parsed.createOrReplaceTempView(\"linkage\")"
   ]
  },
  {
   "cell_type": "code",
   "execution_count": null,
   "id": "a197fa18",
   "metadata": {},
   "outputs": [],
   "source": [
    "spark.sql(\"\"\"\n",
    "  SELECT is_match, COUNT(*) cnt\n",
    "  FROM linkage\n",
    "  GROUP BY is_match\n",
    "  ORDER BY cnt DESC\n",
    "\"\"\").show()"
   ]
  },
  {
   "cell_type": "markdown",
   "id": "4f1493d3",
   "metadata": {},
   "source": [
    "### Fast Summary Statistics for DataFrames"
   ]
  },
  {
   "cell_type": "code",
   "execution_count": null,
   "id": "8deb508e",
   "metadata": {},
   "outputs": [],
   "source": [
    "summary = parsed.describe()"
   ]
  },
  {
   "cell_type": "code",
   "execution_count": null,
   "id": "16a15147",
   "metadata": {},
   "outputs": [],
   "source": [
    "summary.select(\"summary\", \"cmp_fname_c1\", \"cmp_fname_c2\").show()"
   ]
  },
  {
   "cell_type": "code",
   "execution_count": null,
   "id": "bbee58d7",
   "metadata": {},
   "outputs": [],
   "source": [
    "matches = parsed.where(\"is_match = true\")\n",
    "match_summary = matches.describe()\n",
    "\n",
    "misses = parsed.filter(col(\"is_match\") == False)\n",
    "miss_summary = misses.describe()"
   ]
  },
  {
   "cell_type": "markdown",
   "id": "483c8ade",
   "metadata": {},
   "source": [
    "### PIvoting and Reshaping DataFrames"
   ]
  },
  {
   "cell_type": "code",
   "execution_count": null,
   "id": "805cc981",
   "metadata": {},
   "outputs": [],
   "source": [
    "summary_p = summary.toPandas()"
   ]
  },
  {
   "cell_type": "code",
   "execution_count": null,
   "id": "c59057e1",
   "metadata": {},
   "outputs": [],
   "source": [
    "summary_p.head()\n",
    "...\n",
    "summary_p.shape\n",
    "..."
   ]
  },
  {
   "cell_type": "code",
   "execution_count": null,
   "id": "694a70fa",
   "metadata": {},
   "outputs": [],
   "source": [
    "summary_p = summary_p.set_index('summary').transpose().reset_index()\n",
    "...\n",
    "summary_p = summary_p.rename(columns={'index':'field'})\n",
    "...\n",
    "summary_p = summary_p.rename_axis(None, axis=1)\n",
    "...\n",
    "summary_p.shape"
   ]
  },
  {
   "cell_type": "code",
   "execution_count": null,
   "id": "03227118",
   "metadata": {},
   "outputs": [],
   "source": [
    "summaryT = spark.createDataFrame(summary_p)\n",
    "...\n",
    "summaryT.show()"
   ]
  },
  {
   "cell_type": "code",
   "execution_count": null,
   "id": "a54ad128",
   "metadata": {},
   "outputs": [],
   "source": [
    "summaryT.printSchema()"
   ]
  },
  {
   "cell_type": "code",
   "execution_count": null,
   "id": "5504cdc6",
   "metadata": {},
   "outputs": [],
   "source": [
    "from pyspark.sql.types import DoubleType\n",
    "for c in summaryT.columns:\n",
    "    if c == 'field':\n",
    "        continue\n",
    "    summaryT = summaryT.withColumn(c, summaryT[c].cast(DoubleType()))\n",
    "...\n",
    "summaryT.printSchema()"
   ]
  },
  {
   "cell_type": "code",
   "execution_count": null,
   "id": "1db58aca",
   "metadata": {},
   "outputs": [],
   "source": [
    "from pyspark.sql import DataFrame\n",
    "from pyspark.sql.types import DoubleType\n",
    "\n",
    "def pivot_summary(desc):\n",
    "    # convert to pandas dataframe\n",
    "    desc_p = desc.toPandas()\n",
    "    # transpose\n",
    "    desc_p = desc_p.set_index('summary').transpose().reset_index()\n",
    "    desc_p = desc_p.rename(columns={'index':'field'})\n",
    "    desc_p = desc_p.rename_axis(None, axis=1)\n",
    "    # convert to Spark dataframe\n",
    "    descT = spark.createDataFrame(desc_p)\n",
    "    # convert metric columns to double from string\n",
    "    for c in descT.columns:\n",
    "        if c == 'field':\n",
    "            continue\n",
    "        else:\n",
    "            descT = descT.withColumn(c, descT[c].cast(DoubleType()))\n",
    "        return descT"
   ]
  },
  {
   "cell_type": "code",
   "execution_count": null,
   "id": "80124e10",
   "metadata": {},
   "outputs": [],
   "source": [
    "match_summaryT = pivot_summary(match_summary)\n",
    "miss_summaryT = pivot_summary(miss_summary)"
   ]
  },
  {
   "cell_type": "markdown",
   "id": "9e17e98f",
   "metadata": {},
   "source": [
    "### Joining DataFrames and Selecting Features"
   ]
  },
  {
   "cell_type": "code",
   "execution_count": null,
   "id": "401a41fd",
   "metadata": {},
   "outputs": [],
   "source": [
    "match_summaryT.createOrReplaceTempView(\"match_desc\")\n",
    "miss_summaryT.createOrReplaceTempView(\"miss_desc\")\n",
    "spark.sql(\"\"\"\n",
    "  SELECT a.field, a.count + b.count total, a.mean - b.mean delta\n",
    "  FROM match_desc a INNER JOIN miss_desc b ON a.field = b.field\n",
    "  WHERE a.field NOT IN (\"id_1\", \"id_2\")\n",
    "  ORDER BY delta DESC, total DESC\n",
    "\"\"\").show()"
   ]
  },
  {
   "cell_type": "markdown",
   "id": "251c8748",
   "metadata": {},
   "source": [
    "### Scoring and Model Evaluation"
   ]
  },
  {
   "cell_type": "code",
   "execution_count": null,
   "id": "874f40b8",
   "metadata": {},
   "outputs": [],
   "source": [
    "good_features = [\"cmp_lname_c1\", \"cmp_plz\", \"cmp_by\", \"cmp_bd\", \"cmp_bm\"]\n",
    "...\n",
    "sum_expression = \" + \".join(good_features)\n",
    "...\n",
    "sum_expression"
   ]
  },
  {
   "cell_type": "code",
   "execution_count": null,
   "id": "f9239692",
   "metadata": {},
   "outputs": [],
   "source": [
    "from pyspark.sql.functions import expr\n",
    "scored = parsed.fillna(0, subset=good_features).\\\n",
    "                withColumn('score', expr(sum_expression)).\\\n",
    "                select('score', 'is_match')\n",
    "...\n",
    "scored.show()"
   ]
  },
  {
   "cell_type": "code",
   "execution_count": null,
   "id": "0275c651",
   "metadata": {},
   "outputs": [],
   "source": [
    "def crossTabs(scored: DataFrame, t: DoubleType) -> DataFrame:\n",
    "    return  scored.selectExpr(f\"score >= {t} as above\", \"is_match\").\\\n",
    "          groupBy(\"above\").pivot(\"is_match\", (\"true\", \"false\")).\\\n",
    "          count()"
   ]
  },
  {
   "cell_type": "code",
   "execution_count": null,
   "id": "89ede503",
   "metadata": {},
   "outputs": [],
   "source": [
    "crossTabs(scored, 4.0).show()"
   ]
  },
  {
   "cell_type": "code",
   "execution_count": null,
   "id": "ee0de336",
   "metadata": {},
   "outputs": [],
   "source": [
    "crossTabs(scored, 2.0).show()"
   ]
  }
 ],
 "metadata": {
  "kernelspec": {
   "display_name": "Python 3 (ipykernel)",
   "language": "python",
   "name": "python3"
  },
  "language_info": {
   "codemirror_mode": {
    "name": "ipython",
    "version": 3
   },
   "file_extension": ".py",
   "mimetype": "text/x-python",
   "name": "python",
   "nbconvert_exporter": "python",
   "pygments_lexer": "ipython3",
   "version": "3.8.10"
  }
 },
 "nbformat": 4,
 "nbformat_minor": 5
}
